{
 "cells": [
  {
   "cell_type": "markdown",
   "id": "28721ddd",
   "metadata": {},
   "source": [
    "# Extraction de mots clés"
   ]
  },
  {
   "cell_type": "markdown",
   "id": "04bd4b4f",
   "metadata": {},
   "source": [
    "## Objectif\n",
    "\n",
    "Parcours un fichier au format PUMBED\n",
    "produit par une interrogation pubmed \n",
    "et extrait les mots-cles (champs `OT`) \n",
    "et associe leur comptage.\n",
    "\n",
    "Le fichier est par default `data-test.txt`\n",
    "**dans le meme** repertoire que ce notebook.\n",
    "\n",
    "Export au format CSV ( \";\"-separateur)\n",
    "pour importer dans `www.worldclouds.com`\n",
    "dans un fichier nommé `wordcounts.csv`\n",
    "\n",
    "### Mestivier Denis - Mai 2022\n",
    "\n",
    "  \n"
   ]
  },
  {
   "cell_type": "code",
   "execution_count": 1,
   "id": "95509df2",
   "metadata": {},
   "outputs": [],
   "source": [
    "# Creation de notre dictionnaire\n",
    "\n",
    "d = {}"
   ]
  },
  {
   "cell_type": "code",
   "execution_count": 2,
   "id": "df3b36c7",
   "metadata": {},
   "outputs": [],
   "source": [
    "# fichier a importer\n",
    "\n",
    "fn = \"data-test.txt\"\n"
   ]
  },
  {
   "cell_type": "code",
   "execution_count": 3,
   "id": "765b3c7c",
   "metadata": {},
   "outputs": [],
   "source": [
    "# Ouverture du fichier pour lecture\n",
    "# on cree une variable file-identifier\n",
    "# pour acceder a notre fichier\n",
    "\n",
    "fid = open( fn , \"rt\", encoding=\"utf8\" )"
   ]
  },
  {
   "cell_type": "code",
   "execution_count": 4,
   "id": "3aeb26b7",
   "metadata": {},
   "outputs": [],
   "source": [
    "# Parsing\n",
    "\n",
    "for lig in fid:\n",
    "    # est-ce que la ligne commence par `OT` ???\n",
    "    if lig[0:5] == \"OT  -\":\n",
    "        # oui.\n",
    "        # 1. j'ote le debut de la ligne\n",
    "        kw = lig[6:-1]\n",
    "  \n",
    "        # 2. je vire d'eventuels \"*\"\n",
    "        kw = kw.replace(\"*\", \"\" )\n",
    "  \n",
    "        # 3. j'enregistre\n",
    "        if kw not in d.keys():\n",
    "            d[kw] = 0\n",
    "  \n",
    "        d[kw] = d[kw] + 1\n"
   ]
  },
  {
   "cell_type": "code",
   "execution_count": 5,
   "id": "e312b59c",
   "metadata": {},
   "outputs": [],
   "source": [
    "# Fermeture du fichier\n",
    "fid.close()"
   ]
  },
  {
   "cell_type": "code",
   "execution_count": 6,
   "id": "48584710",
   "metadata": {},
   "outputs": [
    {
     "data": {
      "text/plain": [
       "{'Chemotaxis': 1,\n",
       " 'Excitable dynamics': 1,\n",
       " 'Physarum polycephalum': 3,\n",
       " 'Metabolic intervention': 1,\n",
       " 'Metabolomics': 1,\n",
       " 'TiO(2) nanoparticles': 1,\n",
       " 'Transcriptomics': 1,\n",
       " 'Cathode efficiency': 1,\n",
       " 'Microbial fuel cells': 1,\n",
       " 'Robotic control': 1,\n",
       " 'Slime mould': 1,\n",
       " 'Microbial ecosystem': 1,\n",
       " 'Population dynamics': 1,\n",
       " 'Slime mold': 1,\n",
       " 'acellular slime mould': 1,\n",
       " 'decision-making': 1,\n",
       " 'foraging decisions': 1,\n",
       " 'optimal foraging': 1,\n",
       " 'trade-offs': 1,\n",
       " 'Taylor dispersion': 1,\n",
       " 'acellular slime mold': 1,\n",
       " 'behavior': 1,\n",
       " 'transport network': 1}"
      ]
     },
     "execution_count": 6,
     "metadata": {},
     "output_type": "execute_result"
    }
   ],
   "source": [
    "# Regardons\n",
    "d"
   ]
  },
  {
   "cell_type": "code",
   "execution_count": 7,
   "id": "23894472",
   "metadata": {},
   "outputs": [],
   "source": [
    "# Export dans un fichier CSV (';'-sep)\n",
    "# pour etre importe dans wordclouds.com\n",
    "# (lire la doc en ligne)\n",
    "fnout = \"wordcounts.csv\""
   ]
  },
  {
   "cell_type": "code",
   "execution_count": 8,
   "id": "26c4d88a",
   "metadata": {},
   "outputs": [],
   "source": [
    "# Ouverture du fichier en ecriture\n",
    "fout = open( fnout, \"wt\", , encoding=\"utf8\")"
   ]
  },
  {
   "cell_type": "code",
   "execution_count": 9,
   "id": "443b3b9a",
   "metadata": {},
   "outputs": [
    {
     "data": {
      "text/plain": [
       "22"
      ]
     },
     "execution_count": 9,
     "metadata": {},
     "output_type": "execute_result"
    }
   ],
   "source": [
    "# Affichage d'un entete\n",
    "fout.write( \"weight;word;color;url\\n\")"
   ]
  },
  {
   "cell_type": "code",
   "execution_count": 10,
   "id": "65f13c2f",
   "metadata": {},
   "outputs": [],
   "source": [
    "# Et affiche notre dico\n",
    "\n",
    "for kw in d.keys():\n",
    "    fout.write( str(d[kw]) + \";\" + kw + \"\\n\" )"
   ]
  },
  {
   "cell_type": "code",
   "execution_count": 11,
   "id": "80cebace",
   "metadata": {},
   "outputs": [],
   "source": [
    "# Fermeture du fichier\n",
    "fout.close()"
   ]
  },
  {
   "cell_type": "code",
   "execution_count": null,
   "id": "7c31005e",
   "metadata": {},
   "outputs": [],
   "source": []
  }
 ],
 "metadata": {
  "kernelspec": {
   "display_name": "Python 3",
   "language": "python",
   "name": "python3"
  },
  "language_info": {
   "codemirror_mode": {
    "name": "ipython",
    "version": 3
   },
   "file_extension": ".py",
   "mimetype": "text/x-python",
   "name": "python",
   "nbconvert_exporter": "python",
   "pygments_lexer": "ipython3",
   "version": "3.9.9"
  }
 },
 "nbformat": 4,
 "nbformat_minor": 5
}
